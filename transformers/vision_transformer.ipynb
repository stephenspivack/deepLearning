{
  "nbformat": 4,
  "nbformat_minor": 0,
  "metadata": {
    "colab": {
      "provenance": [],
      "private_outputs": true,
      "gpuType": "T4",
      "toc_visible": true
    },
    "kernelspec": {
      "name": "python3",
      "display_name": "Python 3"
    },
    "language_info": {
      "name": "python"
    },
    "accelerator": "GPU"
  },
  "cells": [
    {
      "cell_type": "markdown",
      "source": [
        "## Vision Transformer (ViT)\n",
        "\n",
        "In this assignment we're going to work with Vision Transformer. We will start to build our own vit model and train it on an image classification task.\n",
        "The purpose of this homework is for you to get familar with ViT and get prepared for the final project."
      ],
      "metadata": {
        "id": "nQgfvQ4tT-ou"
      }
    },
    {
      "cell_type": "code",
      "source": [
        "import math\n",
        "\n",
        "import torch\n",
        "import torch.nn as nn\n",
        "import torch.nn.functional as F\n",
        "from torchvision import datasets, transforms"
      ],
      "metadata": {
        "id": "nFR6WFmfxw43"
      },
      "execution_count": null,
      "outputs": []
    },
    {
      "cell_type": "code",
      "source": [
        "device = torch.device(\"cuda\" if torch.cuda.is_available() else \"cpu\")\n",
        "print(device)"
      ],
      "metadata": {
        "id": "xGv2wu1MyAPC"
      },
      "execution_count": null,
      "outputs": []
    },
    {
      "cell_type": "markdown",
      "source": [],
      "metadata": {
        "id": "LhHc7avXEATa"
      }
    },
    {
      "cell_type": "markdown",
      "source": [
        "# VIT Implementation\n",
        "\n",
        "The vision transformer can be seperated into three parts, we will implement each part and combine them in the end.\n",
        "\n",
        "For the implementation, feel free to experiment different kinds of setup, as long as you use attention as the main computation unit and the ViT can be train to perform the image classification task present later.\n",
        "You can read about the ViT implement from other libary: https://github.com/huggingface/pytorch-image-models/blob/main/timm/models/vision_transformer.py and https://github.com/pytorch/vision/blob/main/torchvision/models/vision_transformer.py"
      ],
      "metadata": {
        "id": "MmNi93C-4rLb"
      }
    },
    {
      "cell_type": "markdown",
      "source": [
        "## PatchEmbedding\n",
        "PatchEmbedding is responsible for dividing the input image into non-overlapping patches and projecting them into a specified embedding dimension. It uses a 2D convolution layer with a kernel size and stride equal to the patch size. The output is a sequence of linear embeddings for each patch."
      ],
      "metadata": {
        "id": "UNEtT9SQ4jgx"
      }
    },
    {
      "cell_type": "code",
      "source": [
        "class PatchEmbedding(nn.Module):\n",
        "    def __init__(self, image_size, patch_size, in_channels, embed_dim):\n",
        "        super(PatchEmbedding, self).__init__()\n",
        "        self.image_size = image_size\n",
        "        self.patch_size = patch_size\n",
        "        self.in_channels = in_channels\n",
        "        self.embed_dim = embed_dim\n",
        "\n",
        "        # Calculate the number of patches\n",
        "        self.num_patches = (image_size // patch_size) ** 2\n",
        "\n",
        "        # Define the 2D convolution layer for patch embedding\n",
        "        self.projection = nn.Conv2d(in_channels, embed_dim, kernel_size=patch_size, stride=patch_size)\n",
        "\n",
        "    def forward(self, x):\n",
        "        # Extract patches using the convolution operation\n",
        "        x = self.projection(x)\n",
        "\n",
        "        # Reshape to (batch_size, num_patches, embed_dim)\n",
        "        x = x.view(x.size(0), self.num_patches, self.embed_dim)\n",
        "\n",
        "        return x"
      ],
      "metadata": {
        "id": "rAzsdK5YybDa"
      },
      "execution_count": null,
      "outputs": []
    },
    {
      "cell_type": "markdown",
      "source": [
        "## MultiHeadSelfAttention\n",
        "\n",
        "This class implements the multi-head self-attention mechanism, which is a key component of the transformer architecture. It consists of multiple attention heads that independently compute scaled dot-product attention on the input embeddings. This allows the model to capture different aspects of the input at different positions. The attention outputs are concatenated and linearly transformed back to the original embedding size."
      ],
      "metadata": {
        "id": "1mk8v66y6MAS"
      }
    },
    {
      "cell_type": "code",
      "source": [
        "class MultiHeadSelfAttention(nn.Module):\n",
        "    def __init__(self, embed_dim, num_heads):\n",
        "        super(MultiHeadSelfAttention, self).__init__()\n",
        "        self.embed_dim = embed_dim\n",
        "        self.num_heads = num_heads\n",
        "        self.head_dim = embed_dim // num_heads\n",
        "\n",
        "        # Define linear projections for queries, keys, and values for each head\n",
        "        self.query_projection = nn.Linear(embed_dim, embed_dim)\n",
        "        self.key_projection = nn.Linear(embed_dim, embed_dim)\n",
        "        self.value_projection = nn.Linear(embed_dim, embed_dim)\n",
        "\n",
        "        # Linear transformation for the concatenated outputs of all heads\n",
        "        self.final_projection = nn.Linear(embed_dim, embed_dim)\n",
        "\n",
        "    def forward(self, x):\n",
        "        batch_size, num_patches, _ = x.size()\n",
        "\n",
        "        # Linear projections for queries, keys, and values for each head\n",
        "        queries = self.query_projection(x)\n",
        "        keys = self.key_projection(x)\n",
        "        values = self.value_projection(x)\n",
        "\n",
        "        # Reshape the projections to split into multiple heads\n",
        "        queries = queries.view(batch_size, num_patches, self.num_heads, self.head_dim)\n",
        "        keys = keys.view(batch_size, num_patches, self.num_heads, self.head_dim)\n",
        "        values = values.view(batch_size, num_patches, self.num_heads, self.head_dim)\n",
        "\n",
        "        # Transpose to perform attention across different heads\n",
        "        queries = queries.transpose(1, 2)\n",
        "        keys = keys.transpose(1, 2)\n",
        "        values = values.transpose(1, 2)\n",
        "\n",
        "        # Scaled dot-product attention\n",
        "        attention_scores = torch.matmul(queries, keys.transpose(-2, -1)) / math.sqrt(self.head_dim)\n",
        "        attention_weights = F.softmax(attention_scores, dim=-1)\n",
        "        attention_outputs = torch.matmul(attention_weights, values)\n",
        "\n",
        "        # Concatenate attention outputs from different heads\n",
        "        attention_outputs = attention_outputs.transpose(1, 2).contiguous().view(batch_size, num_patches, self.embed_dim)\n",
        "\n",
        "        # Linear transformation for the concatenated outputs\n",
        "        attention_outputs = self.final_projection(attention_outputs)\n",
        "\n",
        "        return attention_outputs\n"
      ],
      "metadata": {
        "id": "V1LeAZq-0dQW"
      },
      "execution_count": null,
      "outputs": []
    },
    {
      "cell_type": "markdown",
      "source": [
        "## TransformerBlock\n",
        "This class represents a single transformer layer. It includes a multi-head self-attention sublayer followed by a position-wise feed-forward network (MLP). Each sublayer is surrounded by residual connections.\n",
        "You may also want to use layer normalization or other type of normalization."
      ],
      "metadata": {
        "id": "NCAURJGJ6jhH"
      }
    },
    {
      "cell_type": "code",
      "source": [
        "class TransformerBlock(nn.Module):\n",
        "    def __init__(self, embed_dim, num_heads, mlp_dim, dropout):\n",
        "        super(TransformerBlock, self).__init__()\n",
        "        self.attention = MultiHeadSelfAttention(embed_dim, num_heads)\n",
        "\n",
        "        # Layer normalization for attention output\n",
        "        self.norm1 = nn.LayerNorm(embed_dim)\n",
        "\n",
        "        # Feed-forward network (MLP)\n",
        "        self.mlp = nn.Sequential(\n",
        "            nn.Linear(embed_dim, mlp_dim),\n",
        "            nn.GELU(),  # GELU activation function\n",
        "            nn.Dropout(dropout),\n",
        "            nn.Linear(mlp_dim, embed_dim),\n",
        "            nn.Dropout(dropout)\n",
        "        )\n",
        "\n",
        "        # Layer normalization for MLP output\n",
        "        self.norm2 = nn.LayerNorm(embed_dim)\n",
        "\n",
        "    def forward(self, x):\n",
        "        # Multi-head self-attention sublayer\n",
        "        attention_output = self.attention(x)\n",
        "        x = x + attention_output  # Residual connection\n",
        "        x = self.norm1(x)  # Layer normalization\n",
        "\n",
        "        # Position-wise feed-forward sublayer\n",
        "        mlp_output = self.mlp(x)\n",
        "        x = x + mlp_output  # Residual connection\n",
        "        x = self.norm2(x)  # Layer normalization\n",
        "\n",
        "        return x\n"
      ],
      "metadata": {
        "id": "0rT15Biv6igC"
      },
      "execution_count": null,
      "outputs": []
    },
    {
      "cell_type": "markdown",
      "source": [
        "## VisionTransformer:\n",
        "This is the main class that assembles the entire Vision Transformer architecture. It starts with the PatchEmbedding layer to create patch embeddings from the input image. A special class token is added to the sequence, and positional embeddings are added to both the patch and class tokens. The sequence of patch embeddings is then passed through multiple TransformerBlock layers. The final output is the logits for all classes"
      ],
      "metadata": {
        "id": "rgLfJRUm7EDq"
      }
    },
    {
      "cell_type": "code",
      "source": [
        "class VisionTransformer(nn.Module):\n",
        "    def __init__(self, image_size, patch_size, in_channels, embed_dim, num_heads, mlp_dim, num_layers, num_classes, dropout=0.1):\n",
        "        super(VisionTransformer, self).__init__()\n",
        "        self.patch_embedding = PatchEmbedding(image_size, patch_size, in_channels, embed_dim)\n",
        "        self.class_token = nn.Parameter(torch.zeros(1, 1, embed_dim))\n",
        "        num_patches = (image_size // patch_size) ** 2\n",
        "        self.positional_embedding = nn.Parameter(torch.zeros(1, num_patches + 1, embed_dim))\n",
        "        self.transformer_blocks = nn.Sequential(\n",
        "            *[TransformerBlock(embed_dim, num_heads, mlp_dim, dropout) for _ in range(num_layers)]\n",
        "        )\n",
        "        self.classification_head = nn.Linear(embed_dim, num_classes)\n",
        "\n",
        "    def forward(self, x):\n",
        "        # Patch embedding\n",
        "        x = self.patch_embedding(x)\n",
        "\n",
        "        # Add class token\n",
        "        class_token = self.class_token.expand(x.size(0), -1, -1)\n",
        "        x = torch.cat((class_token, x), dim=1)\n",
        "\n",
        "        # Add positional embeddings\n",
        "        x = x + self.positional_embedding\n",
        "\n",
        "        # Transformer blocks\n",
        "        x = self.transformer_blocks(x)\n",
        "\n",
        "        # Extract class token for classification\n",
        "        class_token_output = x[:, 0, :]\n",
        "\n",
        "        # Classification head\n",
        "        logits = self.classification_head(class_token_output)\n",
        "\n",
        "        return logits\n"
      ],
      "metadata": {
        "id": "tgute9Ab0QP4"
      },
      "execution_count": null,
      "outputs": []
    },
    {
      "cell_type": "markdown",
      "source": [
        "## Let's train the ViT!\n",
        "\n",
        "We will train the vit to do the image classification with cifar100. Free free to change the optimizer and or add other tricks to improve the training"
      ],
      "metadata": {
        "id": "lROdKoO37Uqb"
      }
    },
    {
      "cell_type": "code",
      "source": [
        "image_size = 32\n",
        "patch_size = 4\n",
        "in_channels = 3\n",
        "embed_dim = 128\n",
        "num_heads = 4\n",
        "mlp_dim = 256\n",
        "num_layers = 4\n",
        "num_classes = 100\n",
        "dropout = 0.1\n",
        "\n",
        "batch_size = 64"
      ],
      "metadata": {
        "id": "byAC841ix_lb"
      },
      "execution_count": null,
      "outputs": []
    },
    {
      "cell_type": "code",
      "source": [
        "model = VisionTransformer(image_size, patch_size, in_channels, embed_dim, num_heads, mlp_dim, num_layers, num_classes, dropout).to(device)\n",
        "input_tensor = torch.randn(1, in_channels, image_size, image_size).to(device)\n",
        "output = model(input_tensor)\n",
        "print(output.shape)"
      ],
      "metadata": {
        "id": "1V14TFbM8x4l"
      },
      "execution_count": null,
      "outputs": []
    },
    {
      "cell_type": "code",
      "source": [
        "# Load the CIFAR-100 dataset\n",
        "transform_train = transforms.Compose([\n",
        "    transforms.RandomCrop(32, padding=4),\n",
        "    transforms.Resize(image_size),\n",
        "    transforms.RandomHorizontalFlip(),\n",
        "    transforms.ToTensor(),\n",
        "    transforms.Normalize((0.4914, 0.4822, 0.4465), (0.2023, 0.1994, 0.2010)),\n",
        "])\n",
        "\n",
        "transform_test = transforms.Compose([\n",
        "    transforms.Resize(image_size),\n",
        "    transforms.ToTensor(),\n",
        "    transforms.Normalize((0.4914, 0.4822, 0.4465), (0.2023, 0.1994, 0.2010)),\n",
        "])\n",
        "\n",
        "trainset = datasets.CIFAR100(root='./data', train=True, download=True, transform=transform_train)\n",
        "testset = datasets.CIFAR100(root='./data', train=False, download=True, transform=transform_test)\n",
        "\n",
        "trainloader = torch.utils.data.DataLoader(trainset, batch_size=batch_size, shuffle=True, num_workers=2)\n",
        "testloader = torch.utils.data.DataLoader(testset, batch_size=batch_size, shuffle=False, num_workers=2)"
      ],
      "metadata": {
        "id": "3BOp450mdC-D"
      },
      "execution_count": null,
      "outputs": []
    },
    {
      "cell_type": "code",
      "source": [
        "# Define the loss function and optimizer\n",
        "criterion = nn.CrossEntropyLoss()\n",
        "optimizer = torch.optim.Adam(model.parameters(), lr=0.0001)"
      ],
      "metadata": {
        "id": "4s8-X4l-exSg"
      },
      "execution_count": null,
      "outputs": []
    },
    {
      "cell_type": "code",
      "source": [
        "# Train the model\n",
        "num_epochs = 100\n",
        "best_val_acc = 0\n",
        "\n",
        "for epoch in range(num_epochs):\n",
        "    model.train()\n",
        "\n",
        "    for i, data in enumerate(trainloader, 0):\n",
        "        inputs, labels = data\n",
        "        inputs, labels = inputs.to(device), labels.to(device)\n",
        "\n",
        "        optimizer.zero_grad()\n",
        "\n",
        "        outputs = model(inputs)\n",
        "        loss = criterion(outputs, labels)\n",
        "        loss.backward()\n",
        "\n",
        "        optimizer.step()\n",
        "\n",
        "    # Validate the model\n",
        "    model.eval()\n",
        "    correct = 0\n",
        "    total = 0\n",
        "    with torch.no_grad():\n",
        "        for data in testloader:\n",
        "            images, labels = data\n",
        "            images, labels = images.to(device), labels.to(device)\n",
        "            outputs = model(images)\n",
        "            _, predicted = torch.max(outputs.data, 1)\n",
        "            total += labels.size(0)\n",
        "            correct += (predicted == labels).sum().item()\n",
        "    val_acc = 100 * correct / total\n",
        "    print(f\"Epoch: {epoch + 1}, Validation Accuracy: {val_acc:.2f}%\")\n",
        "\n",
        "    # Save the best model\n",
        "    if val_acc > best_val_acc:\n",
        "        best_val_acc = val_acc\n",
        "        torch.save(model.state_dict(), \"best_model.pth\")"
      ],
      "metadata": {
        "id": "eOyk345ve5HN"
      },
      "execution_count": null,
      "outputs": []
    },
    {
      "cell_type": "code",
      "source": [
        "import os\n",
        "print(os.getcwd())"
      ],
      "metadata": {
        "id": "wRnpRntCusAI"
      },
      "execution_count": null,
      "outputs": []
    },
    {
      "cell_type": "markdown",
      "source": [
        "Please submit your best_model.pth with this notebook. And report the best test results you get."
      ],
      "metadata": {
        "id": "-AfNVj1U9xhk"
      }
    }
  ]
}