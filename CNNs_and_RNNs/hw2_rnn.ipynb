{
 "cells": [
  {
   "cell_type": "markdown",
   "metadata": {
    "id": "PtcBjMq7YV3f"
   },
   "source": [
    "\n",
    "\n",
    "# Homework 2 - Recurrent Neural Networks"
   ]
  },
  {
   "cell_type": "markdown",
   "metadata": {
    "id": "Rn-cOk1iZTtR"
   },
   "source": [
    "In this part of the homework we are going to work with Recurrent Neural Networks, in particular GRU. One of the greatest things that Recurrent Neural Networks can do when working with sequences is retaining data from several timesteps in the past. We are going to explore that property by constructing an 'echo' Recurrent Neural Network.\n",
    "\n",
    "The goal here is to make a model that given a sequence of letters or digits will output that same sequence, but with a certain delay. Let's say the input is a string 'abacaba', we want the model to not output anything for 3 steps (delay length), and then output the original string step by step, except the last 3 characters. So, target output is then 'XXXabac', where 'X' is empty output.\n",
    "\n",
    "This is similar to [this notebook](https://github.com/Atcold/pytorch-Deep-Learning/blob/master/09-echo_data.ipynb) (which you should refer to when doing this assignment), except we're working not with a binary string, but with a sequence of integers between 0 and some N. In our case N is 26, which is the number of letters in the alphabet."
   ]
  },
  {
   "cell_type": "markdown",
   "metadata": {
    "id": "npLlE973as6x"
   },
   "source": [
    "## Dataset\n",
    "\n",
    "Let's implement the dataset. In our case, the data is basically infinite, as we can always generate more examples on the fly, so there's no need to load it from disk."
   ]
  },
  {
   "cell_type": "code",
   "execution_count": 1,
   "metadata": {
    "id": "mkEEMyvzIMRx"
   },
   "outputs": [],
   "source": [
    "import random\n",
    "import string\n",
    "\n",
    "import torch\n",
    "\n",
    "# Max value of the generated integer. 26 is chosen becuase it's\n",
    "# the number of letters in English alphabet.\n",
    "N = 26\n",
    "\n",
    "\n",
    "def idx_to_onehot(x, k=N+1):\n",
    "  \"\"\" Converts the generated integers to one-hot vectors \"\"\"\n",
    "  ones = torch.sparse.torch.eye(k)\n",
    "  shape = x.shape\n",
    "  res = ones.index_select(0, x.view(-1).type(torch.int64))\n",
    "  return res.view(*shape, res.shape[-1])\n",
    "\n",
    "\n",
    "class EchoDataset(torch.utils.data.IterableDataset):\n",
    "\n",
    "  def __init__(self, delay=4, seq_length=15, size=1000):\n",
    "    self.delay = delay\n",
    "    self.seq_length = seq_length\n",
    "    self.size = size\n",
    "\n",
    "  def __len__(self):\n",
    "    return self.size\n",
    "\n",
    "  def __iter__(self):\n",
    "    \"\"\" Iterable dataset doesn't have to implement __getitem__.\n",
    "        Instead, we only need to implement __iter__ to return\n",
    "        an iterator (or generator).\n",
    "    \"\"\"\n",
    "    for _ in range(self.size):\n",
    "      seq = torch.tensor([random.choice(range(1, N + 1)) for i in range(self.seq_length)], dtype=torch.int64)\n",
    "      result = torch.cat((torch.zeros(self.delay), seq[:self.seq_length - self.delay])).type(torch.int64)\n",
    "      yield seq, result\n",
    "\n",
    "DELAY = 4\n",
    "DATASET_SIZE = 200000\n",
    "ds = EchoDataset(delay=DELAY, size=DATASET_SIZE)"
   ]
  },
  {
   "cell_type": "markdown",
   "metadata": {
    "id": "nNrZqYURcKSl"
   },
   "source": [
    "## Model\n",
    "\n",
    "Now, we want to implement the model. For our purposes, we want to use GRU. The architecture consists of GRU and a decoder. Decoder is responsible for decoding the GRU hidden state to yield a predicting for the next output. The parts you are responsible for filling with your code are marked with `TODO`."
   ]
  },
  {
   "cell_type": "code",
   "execution_count": 7,
   "metadata": {
    "id": "nigN_o4Mb9Nx"
   },
   "outputs": [],
   "source": [
    "class GRUMemory(torch.nn.Module):\n",
    "\n",
    "  def __init__(self, hidden_size):\n",
    "    super().__init__()\n",
    "    #TODO: initialize your submodules\n",
    "    self.gru = torch.nn.GRU(input_size=N + 1, hidden_size=hidden_size, batch_first=True)\n",
    "    self.decoder = torch.nn.Linear(hidden_size, N + 1)\n",
    "\n",
    "  def forward(self, x):\n",
    "    # inputs: x - input tensor of shape (batch_size, seq_length, N+1)\n",
    "    # returns:\n",
    "    # logits (scores for softmax) of shape (batch size, seq_length, N + 1)\n",
    "    # TODO implement forward pass\n",
    "    batch_size, seq_length, _ = x.size()\n",
    "    h_0 = torch.zeros(1, batch_size, self.gru.hidden_size).to(x.device)\n",
    "    out, _ = self.gru(x, h_0)\n",
    "    logits = self.decoder(out)\n",
    "    return logits\n",
    "\n",
    "  @torch.no_grad()\n",
    "  def test_run(self, s):\n",
    "    # This function accepts one string s containing lowercase characters a-z.\n",
    "    # You need to map those characters to one-hot encodings,\n",
    "    # then get the result from your network, and then convert the output\n",
    "    # back to a string of the same length, with 0 mapped to ' ',\n",
    "    # and 1-26 mapped to a-z.\n",
    "\n",
    "    input_seq = torch.tensor([ord(char) - ord('a') + 1 for char in s], dtype=torch.int64)\n",
    "    one_hot_input = idx_to_onehot(input_seq)\n",
    "    logits = self.forward(one_hot_input.unsqueeze(0))\n",
    "    _, predicted_indices = logits.max(dim=-1)\n",
    "    predicted_chars = ''.join([chr(idx.item() + ord('a') - 1) if idx.item() > 0 else ' ' for idx in predicted_indices.squeeze()])\n",
    "\n",
    "    return predicted_chars\n"
   ]
  },
  {
   "cell_type": "markdown",
   "metadata": {
    "id": "A9whwmVu9OIx"
   },
   "source": [
    "## Training\n",
    "Below you need to implement the training of the model. We give you more freedom as for the implementation. The two limitations are that it has to execute within 10 minutes, and that error rate should be below 1%."
   ]
  },
  {
   "cell_type": "code",
   "execution_count": 8,
   "metadata": {
    "id": "lUZkeRnVTNzG"
   },
   "outputs": [],
   "source": [
    "def test_model(model, sequence_length=15):\n",
    "    \"\"\"\n",
    "    This is the test function that runs 100 different strings through your model,\n",
    "    and checks the error rate.\n",
    "    \"\"\"\n",
    "    total = 0\n",
    "    correct = 0\n",
    "    for i in range(500):\n",
    "        s = ''.join([random.choice(string.ascii_lowercase) for i in range(random.randint(15, 25))])\n",
    "        result = model.test_run(s)\n",
    "        for c1, c2 in zip(s[:-DELAY], result[DELAY:]):  # Note: Replace D with DELAY\n",
    "            correct += int(c1 == c2)\n",
    "        total += len(s) - DELAY\n",
    "\n",
    "    return correct / total"
   ]
  },
  {
   "cell_type": "code",
   "execution_count": 4,
   "metadata": {
    "colab": {
     "base_uri": "https://localhost:8080/"
    },
    "id": "9lV9BscxCCAI",
    "outputId": "5eaded11-9e2f-4ed9-df65-4dcdf56b4532"
   },
   "outputs": [
    {
     "name": "stdout",
     "output_type": "stream",
     "text": [
      "Epoch 1/5, Loss: 0.4393750627301261\n",
      "Epoch 2/5, Loss: 0.0006130304477410391\n",
      "Epoch 3/5, Loss: 0.00017752305730959052\n",
      "Epoch 4/5, Loss: 0.00014645102738482818\n",
      "Epoch 5/5, Loss: 0.00010359139817766845\n",
      "tests passed\n"
     ]
    }
   ],
   "source": [
    "import time\n",
    "start_time = time.time()\n",
    "\n",
    "# TODO\n",
    "import torch.optim as optim\n",
    "\n",
    "hidden_size = 64\n",
    "model = GRUMemory(hidden_size)\n",
    "criterion = torch.nn.CrossEntropyLoss()\n",
    "optimizer = optim.Adam(model.parameters(), lr=0.001)\n",
    "\n",
    "batch_size = 32\n",
    "loader = torch.utils.data.DataLoader(ds, batch_size=batch_size, shuffle=False)\n",
    "\n",
    "# Training loop\n",
    "epochs = 5 \n",
    "for epoch in range(epochs):\n",
    "    total_loss = 0\n",
    "\n",
    "    buffer = []\n",
    "    for batch in loader:\n",
    "        buffer.append(batch)\n",
    "        if len(buffer) == batch_size:\n",
    "            random.shuffle(buffer)\n",
    "\n",
    "            for inputs, targets in buffer:\n",
    "                optimizer.zero_grad()\n",
    "\n",
    "                one_hot_inputs = idx_to_onehot(inputs)\n",
    "\n",
    "                logits = model(one_hot_inputs)\n",
    "\n",
    "                targets = targets.view(-1)\n",
    "\n",
    "                loss = criterion(logits.view(-1, N + 1), targets)\n",
    "\n",
    "                loss.backward()\n",
    "                optimizer.step()\n",
    "\n",
    "                total_loss += loss.item()\n",
    "\n",
    "            buffer = []\n",
    "\n",
    "    print(f\"Epoch {epoch + 1}/{epochs}, Loss: {total_loss / len(loader)}\")\n",
    "\n",
    "accuracy = test_model(model)\n",
    "\n",
    "end_time = time.time()\n",
    "duration = end_time - start_time\n",
    "accuracy = test_model(model)\n",
    "assert duration < 600, 'execution took f{duration:.2f} seconds, which longer than 10 mins'\n",
    "assert accuracy > 0.99, f'accuracy is too low, got {accuracy}, need 0.99'\n",
    "print('tests passed')"
   ]
  },
  {
   "cell_type": "markdown",
   "metadata": {
    "id": "sB0EVNBtDhpN"
   },
   "source": [
    "## Variable delay model\n",
    "\n",
    "Now, to make this more complicated, we want to have varialbe delay. So, now, the goal is to transform a sequence of pairs (character, delay) into a character sequence with given delay. Delay is constant within one sequence."
   ]
  },
  {
   "cell_type": "markdown",
   "metadata": {
    "id": "3i_iwX_AEOCH"
   },
   "source": [
    "### Dataset\n",
    "As before, we first implement the dataset:"
   ]
  },
  {
   "cell_type": "code",
   "execution_count": 12,
   "metadata": {
    "id": "E4G5b8kuEUEd"
   },
   "outputs": [],
   "source": [
    "class VariableDelayEchoDataset(torch.utils.data.IterableDataset):\n",
    "\n",
    "  def __init__(self, max_delay=8, seq_length=20, size=1000):\n",
    "    self.max_delay = max_delay\n",
    "    self.seq_length = seq_length\n",
    "    self.size = size\n",
    "\n",
    "  def __len__(self):\n",
    "    return self.size\n",
    "\n",
    "  def __iter__(self):\n",
    "    for _ in range(self.size):\n",
    "      seq = torch.tensor([random.choice(range(1, N + 1)) for i in range(self.seq_length)], dtype=torch.int64)\n",
    "      delay = random.randint(0, self.max_delay)\n",
    "      result = torch.cat((torch.zeros(delay), seq[:self.seq_length - delay])).type(torch.int64)\n",
    "      yield seq, delay, result"
   ]
  },
  {
   "cell_type": "markdown",
   "metadata": {
    "id": "oTRVOND3HEJZ"
   },
   "source": [
    "### Model\n",
    "\n",
    "And the model."
   ]
  },
  {
   "cell_type": "code",
   "execution_count": 29,
   "metadata": {
    "id": "IYolFIB8Hg0U"
   },
   "outputs": [],
   "source": [
    "class VariableDelayGRUMemory(torch.nn.Module):\n",
    "\n",
    "  def __init__(self, hidden_size, max_delay):\n",
    "    super().__init__()\n",
    "    #TODO\n",
    "    self.max_delay = max_delay\n",
    "    self.gru = torch.nn.GRU(input_size=N + 1, hidden_size=hidden_size, batch_first=True)\n",
    "    self.decoder = torch.nn.Linear(hidden_size, N + 1)\n",
    "\n",
    "  def forward(self, x, delays):\n",
    "      # inputs:\n",
    "      # x - tensor of shape (batch size, seq length, N + 1)\n",
    "      # delays - tensor of shape (batch size)\n",
    "      # returns:\n",
    "      # logits (scores for softmax) of shape (batch size, seq_length, N + 1)\n",
    "\n",
    "      # TODO: Implement forward pass\n",
    "      batch_size, seq_length, _ = x.size()\n",
    "      h_0 = torch.zeros(1, batch_size, self.gru.hidden_size).to(x.device)\n",
    "\n",
    "      out, _ = self.gru(x, h_0)\n",
    "\n",
    "      delayed_hidden_states = torch.zeros(batch_size, seq_length, self.gru.hidden_size).to(x.device)\n",
    "\n",
    "      for i in range(batch_size):\n",
    "          delay = delays[i].item()\n",
    "          for j in range(seq_length):\n",
    "              if j < delay:\n",
    "                  delayed_hidden_states[i, j] = out[i, j]\n",
    "              else:\n",
    "                  delayed_hidden_states[i, j] = out[i, j - delay]\n",
    "\n",
    "      logits = self.decoder(delayed_hidden_states)\n",
    "      return logits\n",
    "\n",
    "  @torch.no_grad()\n",
    "  def test_run(self, s, delay):\n",
    "    # This function accepts one string s containing lowercase characters a-z,\n",
    "    # and a delay - the desired output delay.\n",
    "    # You need to map those characters to one-hot encodings,\n",
    "    # then get the result from your network, and then convert the output\n",
    "    # back to a string of the same length, with 0 mapped to ' ',\n",
    "    # and 1-26 mapped to a-z.\n",
    "\n",
    "    # TODO\n",
    "    input_seq = torch.tensor([ord(char) - ord('a') + 1 for char in s], dtype=torch.int64)\n",
    "    one_hot_input = idx_to_onehot(input_seq)\n",
    "    delay_tensor = torch.tensor([delay], dtype=torch.int64)\n",
    "    logits = self.forward(one_hot_input.unsqueeze(0), delay_tensor.unsqueeze(0))\n",
    "    _, predicted_indices = logits.max(dim=-1)\n",
    "    predicted_chars = ''.join([chr(idx.item() + ord('a') - 1) if idx.item() > 0 else ' ' for idx in predicted_indices.squeeze()])\n",
    "\n",
    "    return predicted_chars\n"
   ]
  },
  {
   "cell_type": "markdown",
   "metadata": {
    "id": "riu3qHWgKjsx"
   },
   "source": [
    "### Train\n",
    "\n",
    "As before, you're free to do what you want, as long as training finishes within 10 minutes and accuracy is above 0.99 for delays between 0 and 8."
   ]
  },
  {
   "cell_type": "code",
   "execution_count": 30,
   "metadata": {
    "id": "4FZHojnGO3aw"
   },
   "outputs": [],
   "source": [
    "def test_variable_delay_model(model, seq_length=20):\n",
    "  \"\"\"\n",
    "  This is the test function that runs 100 different strings through your model,\n",
    "  and checks the error rate.\n",
    "  \"\"\"\n",
    "  total = 0\n",
    "  correct = 0\n",
    "  for i in range(500):\n",
    "    s = ''.join([random.choice(string.ascii_lowercase) for i in range(seq_length)])\n",
    "    d = random.randint(0, model.max_delay)\n",
    "    result = model.test_run(s, d)\n",
    "    if d > 0:\n",
    "      z = zip(s[:-d], result[d:])\n",
    "    else:\n",
    "      z = zip(s, result)\n",
    "    for c1, c2 in z:\n",
    "      correct += int(c1 == c2)\n",
    "    total += len(s) - d\n",
    "\n",
    "  return correct / total"
   ]
  },
  {
   "cell_type": "code",
   "execution_count": 46,
   "metadata": {
    "colab": {
     "base_uri": "https://localhost:8080/"
    },
    "id": "YJ18Ef6vKi4s",
    "outputId": "a5a069fd-4da3-4a55-e8d5-352351cd59cd"
   },
   "outputs": [
    {
     "name": "stdout",
     "output_type": "stream",
     "text": [
      "Epoch 1/10, Loss: 3.1119643598794937\n",
      "Epoch 2/10, Loss: 2.5204399451613426\n",
      "Epoch 3/10, Loss: 1.609206460416317\n",
      "Epoch 4/10, Loss: 0.8000087775290012\n",
      "Epoch 5/10, Loss: 0.5392754031345248\n",
      "Epoch 6/10, Loss: 0.4799939878284931\n",
      "Epoch 7/10, Loss: 0.43709477595984936\n",
      "Epoch 8/10, Loss: 0.43238019570708275\n",
      "Epoch 9/10, Loss: 0.4061380662024021\n",
      "Epoch 10/10, Loss: 0.3926347102969885\n",
      "tests passed\n"
     ]
    }
   ],
   "source": [
    "import time\n",
    "start_time = time.time()\n",
    "\n",
    "MAX_DELAY = 8\n",
    "SEQ_LENGTH = 20\n",
    "\n",
    "# TODO: implement model training here.\n",
    "hidden_size = 256\n",
    "model = VariableDelayGRUMemory(hidden_size, MAX_DELAY)\n",
    "criterion = torch.nn.CrossEntropyLoss()\n",
    "optimizer = optim.Adam(model.parameters(), lr=0.001)\n",
    "\n",
    "batch_size = 32\n",
    "loader = torch.utils.data.DataLoader(VariableDelayEchoDataset(max_delay=MAX_DELAY, size=1000), batch_size=batch_size)\n",
    "\n",
    "# Training loop\n",
    "epochs = 10 \n",
    "for epoch in range(epochs):\n",
    "    total_loss = 0\n",
    "\n",
    "    buffer = []\n",
    "    for batch in loader:\n",
    "        buffer.append(batch)\n",
    "        if len(buffer) == batch_size:\n",
    "            for inputs, delays, targets in buffer:\n",
    "                optimizer.zero_grad()\n",
    "\n",
    "                one_hot_inputs = idx_to_onehot(inputs)\n",
    "\n",
    "                logits = model(one_hot_inputs, delays)\n",
    "\n",
    "                targets = targets.view(-1)\n",
    "\n",
    "                logits = logits.view(-1, logits.size(-1))[:targets.size(0), :]\n",
    "\n",
    "                loss = criterion(logits, targets[:logits.size(0)])\n",
    "\n",
    "                loss.backward()\n",
    "                optimizer.step()\n",
    "\n",
    "                total_loss += loss.item()\n",
    "\n",
    "            buffer = []\n",
    "\n",
    "    print(f\"Epoch {epoch + 1}/{epochs}, Loss: {total_loss / len(loader)}\")\n",
    "\n",
    "# Evaluate the model\n",
    "accuracy = test_variable_delay_model(model)\n",
    "\n",
    "end_time = time.time()\n",
    "assert end_time - start_time < 600, 'executing took longer than 10 mins'\n",
    "assert test_variable_delay_model(model) > 0.99, 'accuracy is too low'\n",
    "print('tests passed')"
   ]
  }
 ],
 "metadata": {
  "colab": {
   "provenance": []
  },
  "kernelspec": {
   "display_name": "Python 3 (ipykernel)",
   "language": "python",
   "name": "python3"
  },
  "language_info": {
   "codemirror_mode": {
    "name": "ipython",
    "version": 3
   },
   "file_extension": ".py",
   "mimetype": "text/x-python",
   "name": "python",
   "nbconvert_exporter": "python",
   "pygments_lexer": "ipython3",
   "version": "3.9.10"
  }
 },
 "nbformat": 4,
 "nbformat_minor": 1
}
